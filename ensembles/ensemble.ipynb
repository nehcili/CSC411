{
 "cells": [
  {
   "cell_type": "markdown",
   "metadata": {},
   "source": [
    "# Ensemble"
   ]
  },
  {
   "cell_type": "markdown",
   "metadata": {},
   "source": [
    "## 1. Voting\n",
    "### 1.1 Load Iris data for comparison"
   ]
  },
  {
   "cell_type": "code",
   "execution_count": 1,
   "metadata": {},
   "outputs": [],
   "source": [
    "import numpy as np"
   ]
  },
  {
   "cell_type": "code",
   "execution_count": 28,
   "metadata": {},
   "outputs": [],
   "source": [
    "from sklearn.datasets import load_iris\n",
    "\n",
    "def prep_train_test(rate=0.9):\n",
    "    iris = load_iris()\n",
    "    X = iris.data\n",
    "    y = iris.target\n",
    "    ind = []\n",
    "    \n",
    "    for i in range(3):\n",
    "        ind.append(np.random.choice(50, int(50*rate), replace=False) + 50*i)\n",
    "    \n",
    "    train_ind = np.concatenate(ind)\n",
    "    test_ind = np.setdiff1d(np.arange(150), train_ind)\n",
    "        \n",
    "    \n",
    "    return X[train_ind], y[train_ind], X[test_ind], y[test_ind]\n",
    "\n",
    "iris_train_data, iris_train_labels, iris_test_data, iris_test_labels = prep_train_test(0.9)"
   ]
  },
  {
   "cell_type": "markdown",
   "metadata": {},
   "source": [
    "## 2. Train Data on individual Classifier vs voting classifier"
   ]
  },
  {
   "cell_type": "code",
   "execution_count": 29,
   "metadata": {},
   "outputs": [
    {
     "name": "stdout",
     "output_type": "stream",
     "text": [
      "KNeighborsClassifier 1 1.0\n",
      "KNeighborsClassifier 2 0.9333333333333333\n",
      "KNeighborsClassifier 3 1.0\n",
      "KNeighborsClassifier 4 1.0\n",
      "DecisionTreeClassifier 5 0.6666666666666666\n",
      "DecisionTreeClassifier 6 1.0\n",
      "DecisionTreeClassifier 7 1.0\n",
      "DecisionTreeClassifier 8 1.0\n",
      "DecisionTreeClassifier 9 1.0\n",
      "VotingClassifier voting 1.0\n"
     ]
    }
   ],
   "source": [
    "from sklearn.neighbors import KNeighborsClassifier\n",
    "from sklearn.tree import DecisionTreeClassifier\n",
    "from sklearn.ensemble import VotingClassifier\n",
    "from sklearn.metrics import accuracy_score\n",
    "\n",
    "nbr_clfs, dtr_clfs = [], []\n",
    "\n",
    "# make 4 knn\n",
    "for d in range(1, 5):\n",
    "    nbr_clfs.append((str(d), KNeighborsClassifier(n_neighbors=d)))\n",
    "\n",
    "# make 5 decision trees\n",
    "for d in range(1, 6):\n",
    "    dtr_clfs.append((str(d+4), DecisionTreeClassifier(max_depth=d)))\n",
    "\n",
    "# make a voting classifier that takes majority vote among the 4 knn's and 5 decision trees\n",
    "voting_clf = VotingClassifier(estimators=nbr_clfs + dtr_clfs)\n",
    "\n",
    "clfs = nbr_clfs + dtr_clfs  + [('voting', voting_clf)]\n",
    "\n",
    "# look at the accuracy of each classifier\n",
    "for clf in clfs:\n",
    "    clf[1].fit(iris_train_data, iris_train_labels)\n",
    "    y_pred = clf[1].predict(iris_test_data)\n",
    "    print(clf[1].__class__.__name__, clf[0], accuracy_score(iris_test_labels, y_pred))\n",
    "\n",
    "\n"
   ]
  },
  {
   "cell_type": "markdown",
   "metadata": {},
   "source": [
    "## 3. Bagging (and Pasting == without replacement)"
   ]
  },
  {
   "cell_type": "markdown",
   "metadata": {},
   "source": [
    "### 3.1 Load CIFAR-10 data"
   ]
  },
  {
   "cell_type": "code",
   "execution_count": 2,
   "metadata": {},
   "outputs": [],
   "source": [
    "# Load the data\n",
    "# data is first downloweded into DATA_PATH from https://www.cs.toronto.edu/~kriz/cifar.html\n",
    "import os\n",
    "\n",
    "DATA_PATH = os.path.join('data', 'cifar')\n",
    "FILE_NAMES = ['batches.meta'] + ['data_batch_{}'.format(x+1) for x in range(5)] + ['test_batch']\n",
    "\n",
    "def unpickle(file):\n",
    "    import pickle    \n",
    "    \n",
    "    with open(file, 'rb') as fo:\n",
    "        dict = pickle.load(fo, encoding='bytes')\n",
    "    return dict\n",
    "\n",
    "def load_cifar(data_path=DATA_PATH, file_names=FILE_NAMES):\n",
    "    data = []\n",
    "    \n",
    "    for file_name in FILE_NAMES:\n",
    "        data.append(unpickle(os.path.join(data_path, file_name)))\n",
    "    \n",
    "    return data \n",
    "\n",
    "data = load_cifar()"
   ]
  },
  {
   "cell_type": "markdown",
   "metadata": {},
   "source": [
    "### 3.2 Bagging Classifier"
   ]
  },
  {
   "cell_type": "code",
   "execution_count": 3,
   "metadata": {},
   "outputs": [],
   "source": [
    "from sklearn.ensemble import BaggingClassifier\n",
    "from sklearn.neighbors import KNeighborsClassifier\n",
    "\n",
    "\n",
    "\n",
    "\n",
    "def fit_bagging(data_size=60000):\n",
    "    bag_clf = BaggingClassifier(KNeighborsClassifier(),\n",
    "                           n_estimators=500,\n",
    "                           max_samples=100,\n",
    "                           bootstrap=False,\n",
    "                           n_jobs=-1)\n",
    "    \n",
    "    label_type = data[-2][b'data'].dtype\n",
    "    bag_clf.fit(data[1][b'data'][:data_size,:], \n",
    "            np.array(data[1][b'labels'][:data_size], dtype=label_type))\n",
    "    \n",
    "    return bag_clf\n",
    "\n",
    "bag_clf = fit_bagging()\n"
   ]
  },
  {
   "cell_type": "code",
   "execution_count": 4,
   "metadata": {},
   "outputs": [
    {
     "data": {
      "text/plain": [
       "0.237"
      ]
     },
     "execution_count": 4,
     "metadata": {},
     "output_type": "execute_result"
    }
   ],
   "source": [
    "from sklearn.metrics import accuracy_score\n",
    "test_data = data[-1][b'data'][:1000,:]\n",
    "test_label = data[-1][b'labels'][:1000]\n",
    "y_pred = bag_clf.predict(test_data)\n",
    "accuracy_score(test_label, y_pred)"
   ]
  },
  {
   "cell_type": "markdown",
   "metadata": {},
   "source": [
    "Compare with the bench mark of 0.1796 in the case of just a single kNN"
   ]
  },
  {
   "cell_type": "code",
   "execution_count": null,
   "metadata": {},
   "outputs": [],
   "source": []
  }
 ],
 "metadata": {
  "kernelspec": {
   "display_name": "Python 3",
   "language": "python",
   "name": "python3"
  },
  "language_info": {
   "codemirror_mode": {
    "name": "ipython",
    "version": 3
   },
   "file_extension": ".py",
   "mimetype": "text/x-python",
   "name": "python",
   "nbconvert_exporter": "python",
   "pygments_lexer": "ipython3",
   "version": "3.6.5"
  }
 },
 "nbformat": 4,
 "nbformat_minor": 2
}
