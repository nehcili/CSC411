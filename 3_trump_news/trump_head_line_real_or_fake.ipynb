{
 "cells": [
  {
   "cell_type": "markdown",
   "metadata": {},
   "source": [
    "# Real or Fake Trump Headline\n",
    "- The goal of this project is to classify if a given deadline is real or fake. The exact documentation is from CSC411's homework assignment Q2 (http://www.cs.toronto.edu/~rgrosse/courses/csc411_f18/homeworks/hw1/hw1.pdf)\n",
    "\n",
    "- Useful sklearn documentation: https://scikit-learn.org/stable/modules/feature_extraction.html#text-feature-extraction\n",
    "\n",
    "- good tutorial on sklearn vectorization: https://machinelearningmastery.com/prepare-text-data-machine-learning-scikit-learn/"
   ]
  },
  {
   "cell_type": "markdown",
   "metadata": {},
   "source": [
    "## 1. Load the data"
   ]
  },
  {
   "cell_type": "code",
   "execution_count": 1,
   "metadata": {},
   "outputs": [],
   "source": [
    "# the input file consists of lines of headlines\n",
    "# parse the deadline into words and store \n",
    "# each headline into a row of an np.array\n",
    "from sklearn.feature_extraction.text import *\n",
    "from random import shuffle\n",
    "import numpy as np\n",
    "\n",
    "DOWNLOAD_ROOT = 'http://www.cs.toronto.edu/~rgrosse/courses/csc411_f18/homeworks/hw1/'\n",
    "FILE_URLS = [DOWNLOAD_ROOT + 'clean_fake.txt', DOWNLOAD_ROOT + 'clean_real.txt']\n",
    "FILE_PATH = 'data'\n",
    "\n",
    "# load_data : str, lst of float, method, str --> scipy.sparse.csr.csr_matrix, vectorizer class object\n",
    "# download the file at file_url\n",
    "# splits into ratios of training, validation, testing sets\n",
    "# vectorizer using vectorizer\n",
    "# return the vector from vectorizer.fit_transform(the downloaded file) and the vectorizer\n",
    "def load_data(file_urls=FILE_URLS,\n",
    "                   ratios=[0.7, 0.15, 0.15],\n",
    "                   vectorizer=TfidfVectorizer(),\n",
    "                   file_path=FILE_PATH,\n",
    "                   test=False\n",
    "                  ):\n",
    "    import os\n",
    "    from six.moves import urllib\n",
    "\n",
    "    \n",
    "    # download the file\n",
    "    # store content of each file as an np.array of str in txts\n",
    "    # dividers stores the lengths\n",
    "    txts = []\n",
    "    div = [0]\n",
    "    \n",
    "    for file_url in file_urls:\n",
    "        if test:\n",
    "            print(file_url)\n",
    "        \n",
    "        file_name = file_url.split('/')[-1]\n",
    "\n",
    "        if not os.path.isdir(file_path):\n",
    "            os.makedirs(file_path)\n",
    "\n",
    "        file_loc = os.path.join(file_path, file_name)\n",
    "        urllib.request.urlretrieve(file_url, file_loc)\n",
    "\n",
    "        # vectorize\n",
    "        with open(file_loc) as f:\n",
    "            txt = f.read().split('\\n')\n",
    "            txts += txt\n",
    "            div.append(div[-1] + len(txt))\n",
    "        \n",
    "        if test:\n",
    "            print(txt[:3])\n",
    "            print(len(txt))\n",
    "        \n",
    "    if test:\n",
    "        print('div[-1]: ', div[-1])\n",
    "        print('len(txts): ', len(txts))\n",
    "\n",
    "    # labels\n",
    "    labels = np.zeros(div[-1])\n",
    "    for i in range(len(div)-1):\n",
    "        labels[div[i]: div[i+1]] = i\n",
    "    \n",
    "    if test:\n",
    "        print(len(labels[labels==0]))\n",
    "        print(len(labels[labels==1]))\n",
    "                       \n",
    "    # shuffle the index\n",
    "    index = np.random.choice(div[-1], div[-1], replace=False)\n",
    "    \n",
    "    \n",
    "    # generate train/validation/tst divide\n",
    "    trn_ind = int(div[-1] * ratios[0])\n",
    "    val_ind = trn_ind + int(div[-1] * ratios[1])\n",
    "       \n",
    "    # vectorize\n",
    "    vector = vectorizer.fit_transform(txts)\n",
    "    \n",
    "    if test:\n",
    "        print('trn_index:', trn_ind)\n",
    "        print('val_index:', val_ind)\n",
    "        print(index[:100])\n",
    "        print(vector[index[:trn_ind]].shape)\n",
    "        print(vector[index[trn_ind:val_ind]].shape)\n",
    "        print(vector[index[val_ind:]].shape)\n",
    "\n",
    "    return (vector[index[:trn_ind]], labels[index[:trn_ind]]), (vector[index[trn_ind:val_ind]], labels[index[trn_ind:val_ind]]), (vector[index[val_ind:]], labels[index[val_ind:]]) #, vectorizer\n",
    "\n",
    "\n",
    "    \n",
    "\n",
    "# testing\n",
    "# trn, val, tst = load_data(FILE_URLS, vectorizer=TfidfVectorizer(ngram_range=(1,2)))\n",
    "trn, val, tst = load_data(FILE_URLS, vectorizer=TfidfVectorizer())"
   ]
  },
  {
   "cell_type": "code",
   "execution_count": 2,
   "metadata": {},
   "outputs": [
    {
     "data": {
      "text/plain": [
       "(2287, 5799)"
      ]
     },
     "execution_count": 2,
     "metadata": {},
     "output_type": "execute_result"
    }
   ],
   "source": [
    "trn[0].shape"
   ]
  },
  {
   "cell_type": "code",
   "execution_count": 3,
   "metadata": {},
   "outputs": [
    {
     "data": {
      "text/plain": [
       "(2287,)"
      ]
     },
     "execution_count": 3,
     "metadata": {},
     "output_type": "execute_result"
    }
   ],
   "source": [
    "trn[-1].shape"
   ]
  },
  {
   "cell_type": "markdown",
   "metadata": {},
   "source": [
    "# 2 Model selection "
   ]
  },
  {
   "cell_type": "code",
   "execution_count": 4,
   "metadata": {},
   "outputs": [],
   "source": [
    "from sklearn.tree import DecisionTreeClassifier\n",
    "\n",
    "def select_model(max_depth=5, split_crits=['gini', 'entropy'], trn=trn, val=val):\n",
    "    models = []\n",
    "    errs = []\n",
    "    \n",
    "    for d in range(max_depth):\n",
    "        for s in split_crits:\n",
    "            models.append(DecisionTreeClassifier(criterion=s, max_depth=d+1))\n",
    "            models[-1].fit(trn[0], trn[1])\n",
    "            pred = models[-1].predict(val[0])\n",
    "            target = val[1]\n",
    "            errs.append(len(target[target != pred])/len(target))\n",
    "    \n",
    "    b_index = errs.index(min(errs))\n",
    "    \n",
    "    return (models[b_index], errs[b_index])\n",
    "    \n",
    "    \n",
    "            "
   ]
  },
  {
   "cell_type": "code",
   "execution_count": 5,
   "metadata": {},
   "outputs": [],
   "source": [
    "A = select_model(max_depth=20)"
   ]
  },
  {
   "cell_type": "code",
   "execution_count": 6,
   "metadata": {},
   "outputs": [
    {
     "data": {
      "text/plain": [
       "(DecisionTreeClassifier(class_weight=None, criterion='gini', max_depth=17,\n",
       "             max_features=None, max_leaf_nodes=None,\n",
       "             min_impurity_decrease=0.0, min_impurity_split=None,\n",
       "             min_samples_leaf=1, min_samples_split=2,\n",
       "             min_weight_fraction_leaf=0.0, presort=False, random_state=None,\n",
       "             splitter='best'), 0.17346938775510204)"
      ]
     },
     "execution_count": 6,
     "metadata": {},
     "output_type": "execute_result"
    }
   ],
   "source": [
    "A"
   ]
  },
  {
   "cell_type": "code",
   "execution_count": 8,
   "metadata": {},
   "outputs": [
    {
     "name": "stdout",
     "output_type": "stream",
     "text": [
      "0.18329938900203666\n"
     ]
    }
   ],
   "source": [
    "pred = A[0].predict(tst[0])\n",
    "target = tst[1]\n",
    "e = len(target[target != pred])/len(target)\n",
    "print(e)"
   ]
  },
  {
   "cell_type": "code",
   "execution_count": null,
   "metadata": {},
   "outputs": [],
   "source": [
    "# error rate of approximately 18% in determining if a headline is a real trump news or not"
   ]
  }
 ],
 "metadata": {
  "kernelspec": {
   "display_name": "Python 3",
   "language": "python",
   "name": "python3"
  },
  "language_info": {
   "codemirror_mode": {
    "name": "ipython",
    "version": 3
   },
   "file_extension": ".py",
   "mimetype": "text/x-python",
   "name": "python",
   "nbconvert_exporter": "python",
   "pygments_lexer": "ipython3",
   "version": "3.6.5"
  }
 },
 "nbformat": 4,
 "nbformat_minor": 2
}
