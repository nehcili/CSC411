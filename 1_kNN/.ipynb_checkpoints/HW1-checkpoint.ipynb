{
 "cells": [
  {
   "cell_type": "markdown",
   "metadata": {},
   "source": [
    "## Q1\n",
    "Nearest Neighbours and the Curse of Dimensionality. In this question, you will verify the claim from lecture that “most” points in a high-dimensional space are far away from each other, and also approximately the same distance. There is a very neat proof of this fact which uses the properties of expectation and variance. If it’s been a long time since you’ve studied these, you may wish to review the Tutorial 1 slides3, or the Metacademy resources4.\n",
    "\n",
    "1. First, consider two independent univariate random variables $X$ and $Y$ sampled uniformly from the unit interval $[0, 1]$. Determine the expectation and variance of the random variable $Z$, defined as the squared distance $Z = (X − Y)^2$. You are allowed to evaluate integrals numerically (e.g. using scipy.integrate.quad or scipy.integrate.dblquad), but you should explain what integral(s) you are evaluating, and why.\n",
    "\n",
    "2. Now suppose we sample two points independently from a unit cube in d dimensions. Observe that each coordinate is sampled independently from $[0, 1]$, i.e. we can view this as sampling random variables $X_1, \\dots , X_d, Y_1, \\dots, Y_d$ independently from $[0, 1]$. The squared Euclidean distance can be written as $R = Z_1 + · · · + Z_d$, where $Z_i = (X_i − Y_i)^2$. Using the properties of expectation and variance, determine $E[R]$ and $Var[R]$. You may give your answer in terms of the dimension $d$, and $E[Z]$ and $Var[Z]$ (the answers from part (a)).\n",
    "\n",
    "3. [for your own benefit, not to be handed in] Based on your answer to part (b), compare the mean and standard deviation of R to the maximum possible squared Euclidean distance (i.e. the distance between opposite corners of the cube). Why does this support the claim that"
   ]
  },
  {
   "cell_type": "markdown",
   "metadata": {},
   "source": [
    "## Q1.1"
   ]
  },
  {
   "cell_type": "markdown",
   "metadata": {},
   "source": [
    "The expectation of $Z$ is\n",
    "\\begin{align}\n",
    "    E[Z] =& E[(X-Y)^2] \\\\\n",
    "        =& E[X^2] + E[Y^2] - 2E[XY] \\\\\n",
    "        =& E[X^2] + E[Y^2] - 2E[X]E[Y] \\\\\n",
    "        =& 2E[X^2] - 2E[X]^2 \\\\\n",
    "        =& 2(1/3 - 1/4) \\\\\n",
    "        =& \\frac{1}{6}\n",
    "\\end{align}\n",
    "\n",
    "The variance of $Z$ is\n",
    "\\begin{align}\n",
    "    Var[Z] =& E[Z^2] - E[Z]^2 \\\\\n",
    "        =& E[Z^2] - \\frac{1}{36}.\n",
    "\\end{align}\n",
    "To compute $E[Z^2]$, we note that\n",
    "\\begin{align}\n",
    "    E[Z^2] =& E[(X-Y)^4] \\\\\n",
    "        =& E[X^4] - 4 E[X^3Y] + 6E[X^2Y^2] - 4E[XY^3] + E[Y^4] \\\\\n",
    "        =& 2 E[X^4] - 8 E[X^3]E[Y] + 6E[X^2]^2 \\\\\n",
    "        =& \\frac{2}{5} - \\frac{8}{(4)(2)} + \\frac{6}{3^2} \\\\\n",
    "        =& \\frac{2}{5} - 1 + \\frac{2}{3} \\\\\n",
    "        =& \\frac{1}{15}\n",
    "\\end{align}\n",
    "It follows that \n",
    "\\begin{align}\n",
    "    Var[Z] =& \\frac{1}{15}-\\frac{1}{36} = \\frac{7}{180}\n",
    "\\end{align}"
   ]
  },
  {
   "cell_type": "markdown",
   "metadata": {},
   "source": [
    "## Q1.2"
   ]
  },
  {
   "cell_type": "markdown",
   "metadata": {},
   "source": [
    "The expectation of $R$ is\n",
    "\\begin{align}\n",
    "    E[R] = dE[Z] = \\frac{d}{6} .\n",
    "\\end{align}\n",
    "The variance is\n",
    "\\begin{align}\n",
    "    Var[R] = dVar[Z] = \\frac{7d}{180}\n",
    "\\end{align}"
   ]
  },
  {
   "cell_type": "markdown",
   "metadata": {},
   "source": [
    "## Q1.3"
   ]
  },
  {
   "cell_type": "markdown",
   "metadata": {},
   "source": [
    "Diameter of $[0, 1]^d$ is $\\sqrt{d}$ The mean distance is $\\sqrt{E[R]} = O(\\sqrt{d})$ while the standard deviation is $O(\\sqrt{d})$. The spread and expectation scales in the same way as the diameter of the set $[0,1]^d$ in large $d$."
   ]
  },
  {
   "cell_type": "code",
   "execution_count": null,
   "metadata": {},
   "outputs": [],
   "source": []
  }
 ],
 "metadata": {
  "kernelspec": {
   "display_name": "Python 3",
   "language": "python",
   "name": "python3"
  },
  "language_info": {
   "codemirror_mode": {
    "name": "ipython",
    "version": 3
   },
   "file_extension": ".py",
   "mimetype": "text/x-python",
   "name": "python",
   "nbconvert_exporter": "python",
   "pygments_lexer": "ipython3",
   "version": "3.6.5"
  }
 },
 "nbformat": 4,
 "nbformat_minor": 2
}
