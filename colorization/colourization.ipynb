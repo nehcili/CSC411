{
 "cells": [
  {
   "cell_type": "markdown",
   "metadata": {
    "colab_type": "text",
    "id": "s9IS9B9-yUU5"
   },
   "source": [
    "# Download CIFAR and Colour dictionary\n",
    "It can take up to a couple of minutes to download everything the first time.\n",
    "\n",
    "All files are stored at /content/csc421/a2/data/ folder"
   ]
  },
  {
   "cell_type": "markdown",
   "metadata": {
    "colab_type": "text",
    "id": "4BIpGwANoQOg"
   },
   "source": [
    "## Helper code\n",
    "You can ignore the restart warning."
   ]
  },
  {
   "cell_type": "code",
   "execution_count": 0,
   "metadata": {
    "colab": {
     "base_uri": "https://localhost:8080/",
     "height": 661
    },
    "colab_type": "code",
    "executionInfo": {
     "elapsed": 13913,
     "status": "ok",
     "timestamp": 1572727087426,
     "user": {
      "displayName": "Li Chen",
      "photoUrl": "",
      "userId": "08452733754503056217"
     },
     "user_tz": 240
    },
    "id": "piDmAsqFG0gU",
    "outputId": "46acdce6-6332-4e06-de1a-c2d6d7945e56"
   },
   "outputs": [
    {
     "name": "stdout",
     "output_type": "stream",
     "text": [
      "Requirement already satisfied: torch in /usr/local/lib/python2.7/dist-packages (1.3.0+cu100)\n",
      "Requirement already satisfied: torchvision in /usr/local/lib/python2.7/dist-packages (0.4.1+cu100)\n",
      "Requirement already satisfied: future in /usr/local/lib/python2.7/dist-packages (from torch) (0.16.0)\n",
      "Requirement already satisfied: numpy in /usr/local/lib/python2.7/dist-packages (from torch) (1.16.4)\n",
      "Requirement already satisfied: six in /usr/local/lib/python2.7/dist-packages (from torchvision) (1.12.0)\n",
      "Collecting pillow>=4.1.1\n",
      "\u001b[?25l  Downloading https://files.pythonhosted.org/packages/1b/08/ff620ef5a6128ee6e7a505f5716f81fce7b71f3a69e99646ebe64e0b9984/Pillow-6.2.1-cp27-cp27mu-manylinux1_x86_64.whl (2.1MB)\n",
      "\u001b[K     |████████████████████████████████| 2.1MB 2.8MB/s \n",
      "\u001b[31mERROR: fastai 0.7.0 has requirement torch<0.4, but you'll have torch 1.3.0+cu100 which is incompatible.\u001b[0m\n",
      "\u001b[?25hInstalling collected packages: pillow\n",
      "  Found existing installation: Pillow 4.0.0\n",
      "    Uninstalling Pillow-4.0.0:\n",
      "      Successfully uninstalled Pillow-4.0.0\n",
      "Successfully installed pillow-6.2.1\n"
     ]
    },
    {
     "data": {
      "application/vnd.colab-display-data+json": {
       "pip_warning": {
        "packages": [
         "PIL"
        ]
       }
      }
     },
     "metadata": {
      "tags": []
     },
     "output_type": "display_data"
    },
    {
     "name": "stdout",
     "output_type": "stream",
     "text": [
      "Collecting Pillow==4.0.0\n",
      "  Using cached https://files.pythonhosted.org/packages/89/99/0e3522a9764fe371bf9f7729404b1ef7d9c4fc49cbe5f1761c6e07812345/Pillow-4.0.0-cp27-cp27mu-manylinux1_x86_64.whl\n",
      "Requirement already satisfied: olefile in /usr/local/lib/python2.7/dist-packages (from Pillow==4.0.0) (0.46)\n",
      "\u001b[31mERROR: fastai 0.7.0 has requirement torch<0.4, but you'll have torch 1.3.0+cu100 which is incompatible.\u001b[0m\n",
      "\u001b[31mERROR: scikit-image 0.14.3 has requirement pillow>=4.3.0, but you'll have pillow 4.0.0 which is incompatible.\u001b[0m\n",
      "\u001b[31mERROR: torchvision 0.4.1+cu100 has requirement pillow>=4.1.1, but you'll have pillow 4.0.0 which is incompatible.\u001b[0m\n",
      "Installing collected packages: Pillow\n",
      "  Found existing installation: Pillow 6.2.1\n",
      "    Uninstalling Pillow-6.2.1:\n",
      "      Successfully uninstalled Pillow-6.2.1\n",
      "Successfully installed Pillow-4.0.0\n"
     ]
    },
    {
     "data": {
      "application/vnd.colab-display-data+json": {
       "pip_warning": {
        "packages": [
         "PIL"
        ]
       }
      }
     },
     "metadata": {
      "tags": []
     },
     "output_type": "display_data"
    },
    {
     "name": "stdout",
     "output_type": "stream",
     "text": [
      "/content/csc421/a2\n"
     ]
    }
   ],
   "source": [
    "######################################################################\n",
    "# Setup python environment and change the current working directory\n",
    "######################################################################\n",
    "!pip install torch torchvision\n",
    "!pip install Pillow==4.0.0\n",
    "%mkdir -p /content/csc421/a2/\n",
    "%cd /content/csc421/a2"
   ]
  },
  {
   "cell_type": "code",
   "execution_count": 0,
   "metadata": {
    "colab": {},
    "colab_type": "code",
    "id": "wa5-onJhoSeM"
   },
   "outputs": [],
   "source": [
    "# adapted from \n",
    "# https://github.com/fchollet/keras/blob/master/keras/datasets/cifar10.py\n",
    "\n",
    "import os\n",
    "from six.moves.urllib.request import urlretrieve\n",
    "import tarfile\n",
    "import numpy as np\n",
    "import pickle\n",
    "import sys\n",
    "from PIL import Image\n",
    "\n",
    "\n",
    "def get_file(fname,\n",
    "             origin,\n",
    "             untar=False,\n",
    "             extract=False,\n",
    "             archive_format='auto',\n",
    "             cache_dir='data'):\n",
    "    datadir = os.path.join(cache_dir)\n",
    "    if not os.path.exists(datadir):\n",
    "        os.makedirs(datadir)\n",
    "\n",
    "    if untar:\n",
    "        untar_fpath = os.path.join(datadir, fname)\n",
    "        fpath = untar_fpath + '.tar.gz'\n",
    "    else:\n",
    "        fpath = os.path.join(datadir, fname)\n",
    "    \n",
    "    print(fpath)\n",
    "    if not os.path.exists(fpath):\n",
    "        print('Downloading data from', origin)\n",
    "\n",
    "        error_msg = 'URL fetch failure on {}: {} -- {}'\n",
    "        try:\n",
    "            try:\n",
    "                urlretrieve(origin, fpath)\n",
    "            except URLError as e:\n",
    "                raise Exception(error_msg.format(origin, e.errno, e.reason))\n",
    "            except HTTPError as e:\n",
    "                raise Exception(error_msg.format(origin, e.code, e.msg))\n",
    "        except (Exception, KeyboardInterrupt) as e:\n",
    "            if os.path.exists(fpath):\n",
    "                os.remove(fpath)\n",
    "            raise\n",
    "\n",
    "    if untar:\n",
    "        if not os.path.exists(untar_fpath):\n",
    "            print('Extracting file.')\n",
    "            with tarfile.open(fpath) as archive:\n",
    "                archive.extractall(datadir)\n",
    "        return untar_fpath\n",
    "\n",
    "    if extract:\n",
    "        _extract_archive(fpath, datadir, archive_format)\n",
    "\n",
    "    return fpath\n",
    "\n",
    "\n",
    "\n",
    "def load_batch(fpath, label_key='labels'):\n",
    "    \"\"\"Internal utility for parsing CIFAR data.\n",
    "    # Arguments\n",
    "        fpath: path the file to parse.\n",
    "        label_key: key for label data in the retrieve\n",
    "            dictionary.\n",
    "    # Returns\n",
    "        A tuple `(data, labels)`.\n",
    "    \"\"\"\n",
    "    f = open(fpath, 'rb')\n",
    "    if sys.version_info < (3,):\n",
    "        d = pickle.load(f)\n",
    "    else:\n",
    "        d = pickle.load(f, encoding='bytes')\n",
    "        # decode utf8\n",
    "        d_decoded = {}\n",
    "        for k, v in d.items():\n",
    "            d_decoded[k.decode('utf8')] = v\n",
    "        d = d_decoded\n",
    "    f.close()\n",
    "    data = d['data']\n",
    "    labels = d[label_key]\n",
    "\n",
    "    data = data.reshape(data.shape[0], 3, 32, 32)\n",
    "    return data, labels\n",
    "\n",
    "def load_cifar10(transpose=False):\n",
    "    \"\"\"Loads CIFAR10 dataset.\n",
    "    # Returns\n",
    "        Tuple of Numpy arrays: `(x_train, y_train), (x_test, y_test)`.\n",
    "    \"\"\"\n",
    "    dirname = 'cifar-10-batches-py'\n",
    "    origin = 'http://www.cs.toronto.edu/~kriz/cifar-10-python.tar.gz'\n",
    "    path = get_file(dirname, origin=origin, untar=True)\n",
    "\n",
    "    num_train_samples = 50000\n",
    "\n",
    "    x_train = np.zeros((num_train_samples, 3, 32, 32), dtype='uint8')\n",
    "    y_train = np.zeros((num_train_samples,), dtype='uint8')\n",
    "\n",
    "    for i in range(1, 6):\n",
    "        fpath = os.path.join(path, 'data_batch_' + str(i))\n",
    "        data, labels = load_batch(fpath)\n",
    "        x_train[(i - 1) * 10000: i * 10000, :, :, :] = data\n",
    "        y_train[(i - 1) * 10000: i * 10000] = labels\n",
    "\n",
    "    fpath = os.path.join(path, 'test_batch')\n",
    "    x_test, y_test = load_batch(fpath)\n",
    "\n",
    "    y_train = np.reshape(y_train, (len(y_train), 1))\n",
    "    y_test = np.reshape(y_test, (len(y_test), 1))\n",
    "\n",
    "    if transpose:\n",
    "        x_train = x_train.transpose(0, 2, 3, 1)\n",
    "        x_test = x_test.transpose(0, 2, 3, 1)\n",
    "    return (x_train, y_train), (x_test, y_test)\n"
   ]
  },
  {
   "cell_type": "markdown",
   "metadata": {
    "colab_type": "text",
    "id": "2jIKvJNtoVgU"
   },
   "source": [
    "## Download files\n",
    "\n",
    "This may take 1 or 2 mins for the first time."
   ]
  },
  {
   "cell_type": "code",
   "execution_count": 0,
   "metadata": {
    "colab": {
     "base_uri": "https://localhost:8080/"
    },
    "colab_type": "code",
    "executionInfo": {
     "elapsed": 28924,
     "status": "ok",
     "timestamp": 1572727102460,
     "user": {
      "displayName": "Li Chen",
      "photoUrl": "",
      "userId": "08452733754503056217"
     },
     "user_tz": 240
    },
    "id": "l7fti3cryStt",
    "outputId": "3cc5b709-fbee-4dc6-93b9-e7c6ef3f415e"
   },
   "outputs": [
    {
     "name": "stdout",
     "output_type": "stream",
     "text": [
      "data/colours.tar.gz\n",
      "('Downloading data from', 'http://www.cs.toronto.edu/~jba/kmeans_colour_a2.tar.gz')\n",
      "Extracting file.\n",
      "data/cifar-10-batches-py.tar.gz\n",
      "('Downloading data from', 'http://www.cs.toronto.edu/~kriz/cifar-10-python.tar.gz')\n",
      "Extracting file.\n"
     ]
    }
   ],
   "source": [
    "######################################################################\n",
    "# Download CIFAR datasets and other related files\n",
    "######################################################################\n",
    "colours_fpath = get_file(fname='colours', \n",
    "                         origin='http://www.cs.toronto.edu/~jba/kmeans_colour_a2.tar.gz', \n",
    "                         untar=True)\n",
    "m = load_cifar10()"
   ]
  },
  {
   "cell_type": "markdown",
   "metadata": {
    "colab_type": "text",
    "id": "bXNsLNkOn38w"
   },
   "source": [
    "# Code for training and CNN models"
   ]
  },
  {
   "cell_type": "markdown",
   "metadata": {
    "colab_type": "text",
    "id": "oWyZwl9VKkxD"
   },
   "source": [
    "## Data preprocessing"
   ]
  },
  {
   "cell_type": "code",
   "execution_count": 0,
   "metadata": {
    "colab": {},
    "colab_type": "code",
    "id": "bTF1TQObE6DG"
   },
   "outputs": [],
   "source": [
    "\"\"\"\n",
    "Colourization of CIFAR-10 Horses via classification.\n",
    "\"\"\"\n",
    "from __future__ import print_function\n",
    "import argparse\n",
    "import math\n",
    "import numpy as np\n",
    "import numpy.random as npr\n",
    "import scipy.misc\n",
    "import time\n",
    "import torch \n",
    "import torch.nn as nn\n",
    "import torch.nn.functional as F\n",
    "from torch.autograd import Variable\n",
    "import matplotlib\n",
    "import matplotlib.pyplot as plt \n",
    "\n",
    "\n",
    "#from load_data import load_cifar10\n",
    "\n",
    "HORSE_CATEGORY = 7\n",
    "\n",
    "######################################################################\n",
    "# Data related code\n",
    "######################################################################\n",
    "def get_rgb_cat(xs, colours):\n",
    "    \"\"\"\n",
    "    Get colour categories given RGB values. This function doesn't\n",
    "    actually do the work, instead it splits the work into smaller\n",
    "    chunks that can fit into memory, and calls helper function\n",
    "    _get_rgb_cat\n",
    "\n",
    "    Args:\n",
    "      xs: float numpy array of RGB images in [B, C, H, W] format\n",
    "      colours: numpy array of colour categories and their RGB values\n",
    "    Returns:\n",
    "      result: int numpy array of shape [B, 1, H, W]\n",
    "    \"\"\"\n",
    "    if np.shape(xs)[0] < 100:\n",
    "        return _get_rgb_cat(xs)\n",
    "    batch_size = 100\n",
    "    nexts = []\n",
    "    for i in range(0, np.shape(xs)[0], batch_size):\n",
    "        next = _get_rgb_cat(xs[i:i+batch_size,:,:,:], colours)\n",
    "        nexts.append(next)\n",
    "    result = np.concatenate(nexts, axis=0)\n",
    "    return result\n",
    "\n",
    "def _get_rgb_cat(xs, colours):\n",
    "    \"\"\"\n",
    "    Get colour categories given RGB values. This is done by choosing\n",
    "    the colour in `colours` that is the closest (in RGB space) to\n",
    "    each point in the image `xs`. This function is a little memory\n",
    "    intensive, and so the size of `xs` should not be too large.\n",
    "\n",
    "    Args:\n",
    "      xs: float numpy array of RGB images in [B, C, H, W] format\n",
    "      colours: numpy array of colour categories and their RGB values\n",
    "    Returns:\n",
    "      result: int numpy array of shape [B, 1, H, W]\n",
    "    \"\"\"\n",
    "    num_colours = np.shape(colours)[0]\n",
    "    xs = np.expand_dims(xs, 0)\n",
    "    cs = np.reshape(colours, [num_colours,1,3,1,1])\n",
    "    dists = np.linalg.norm(xs-cs, axis=2) # 2 = colour axis\n",
    "    cat = np.argmin(dists, axis=0)\n",
    "    cat = np.expand_dims(cat, axis=1)\n",
    "    return cat\n",
    "\n",
    "def get_cat_rgb(cats, colours):\n",
    "    \"\"\"\n",
    "    Get RGB colours given the colour categories\n",
    "\n",
    "    Args:\n",
    "      cats: integer numpy array of colour categories\n",
    "      colours: numpy array of colour categories and their RGB values\n",
    "    Returns:\n",
    "      numpy tensor of RGB colours\n",
    "    \"\"\"\n",
    "    return colours[cats]\n",
    "\n",
    "def process(xs, ys, max_pixel=256.0, downsize_input=False):\n",
    "    \"\"\"\n",
    "    Pre-process CIFAR10 images by taking only the horse category,\n",
    "    shuffling, and have colour values be bound between 0 and 1\n",
    "\n",
    "    Args:\n",
    "      xs: the colour RGB pixel values\n",
    "      ys: the category labels\n",
    "      max_pixel: maximum pixel value in the original data\n",
    "    Returns:\n",
    "      xs: value normalized and shuffled colour images\n",
    "      grey: greyscale images, also normalized so values are between 0 and 1\n",
    "    \"\"\"\n",
    "    xs = xs / max_pixel\n",
    "    xs = xs[np.where(ys == HORSE_CATEGORY)[0], :, :, :]\n",
    "    npr.shuffle(xs)\n",
    "    \n",
    "    grey = np.mean(xs, axis=1, keepdims=True)\n",
    "\n",
    "    if downsize_input:\n",
    "      downsize_module = nn.Sequential(nn.AvgPool2d(2),\n",
    "                               nn.AvgPool2d(2), \n",
    "                               nn.Upsample(scale_factor=2), \n",
    "                               nn.Upsample(scale_factor=2))\n",
    "      xs_downsized = downsize_module.forward(torch.from_numpy(xs).float())\n",
    "      xs_downsized = xs_downsized.data.numpy()\n",
    "      return (xs, xs_downsized)\n",
    "    else:\n",
    "      return (xs, grey)\n",
    "\n",
    "\n",
    "def get_batch(x, y, batch_size):\n",
    "    '''\n",
    "    Generated that yields batches of data\n",
    "\n",
    "    Args:\n",
    "      x: input values\n",
    "      y: output values\n",
    "      batch_size: size of each batch\n",
    "    Yields:\n",
    "      batch_x: a batch of inputs of size at most batch_size\n",
    "      batch_y: a batch of outputs of size at most batch_size\n",
    "    '''\n",
    "    N = np.shape(x)[0]\n",
    "    assert N == np.shape(y)[0]\n",
    "    for i in range(0, N, batch_size):\n",
    "        batch_x = x[i:i+batch_size, :,:,:]\n",
    "        batch_y = y[i:i+batch_size, :,:,:]\n",
    "        yield (batch_x, batch_y)\n",
    "\n",
    "######################################################################\n",
    "# Torch Helper\n",
    "######################################################################\n",
    "\n",
    "def get_torch_vars(xs, ys, gpu=False):\n",
    "    \"\"\"\n",
    "    Helper function to convert numpy arrays to pytorch tensors.\n",
    "    If GPU is used, move the tensors to GPU.\n",
    "\n",
    "    Args:\n",
    "      xs (float numpy tenosor): greyscale input\n",
    "      ys (int numpy tenosor): categorical labels \n",
    "      gpu (bool): whether to move pytorch tensor to GPU\n",
    "    Returns:\n",
    "      Variable(xs), Variable(ys)\n",
    "    \"\"\"\n",
    "    xs = torch.from_numpy(xs).float()\n",
    "    ys = torch.from_numpy(ys).long()\n",
    "    if gpu:\n",
    "        xs = xs.cuda()\n",
    "        ys = ys.cuda()\n",
    "    return Variable(xs), Variable(ys)\n",
    "\n",
    "def compute_loss(criterion, outputs, labels, batch_size, num_colours):\n",
    "    \"\"\"\n",
    "    Helper function to compute the loss. Since this is a pixelwise\n",
    "    prediction task we need to reshape the output and ground truth\n",
    "    tensors into a 2D tensor before passing it in to the loss criteron.\n",
    "\n",
    "    Args:\n",
    "      criterion: pytorch loss criterion\n",
    "      outputs (pytorch tensor): predicted labels from the model\n",
    "      labels (pytorch tensor): ground truth labels\n",
    "      batch_size (int): batch size used for training\n",
    "      num_colours (int): number of colour categories\n",
    "    Returns:\n",
    "      pytorch tensor for loss\n",
    "    \"\"\"\n",
    "    #print(batch_size)\n",
    "    #print(outputs.shape)\n",
    "    loss_out = outputs.transpose(1,3) \\\n",
    "                      .contiguous() \\\n",
    "                      .view([batch_size*32*32, num_colours])\n",
    "    loss_lab = labels.transpose(1,3) \\\n",
    "                      .contiguous() \\\n",
    "                      .view([batch_size*32*32])\n",
    "    return criterion(loss_out, loss_lab)\n",
    "\n",
    "def run_validation_step(cnn, criterion, test_grey, test_rgb_cat, batch_size,\n",
    "                        colours, plotpath=None, visualize=True, downsize_input=False):\n",
    "    correct = 0.0\n",
    "    total = 0.0\n",
    "    losses = []\n",
    "    num_colours = np.shape(colours)[0]\n",
    "    for i, (xs, ys) in enumerate(get_batch(test_grey,\n",
    "                                           test_rgb_cat,\n",
    "                                           batch_size)):\n",
    "        images, labels = get_torch_vars(xs, ys, args.gpu)\n",
    "        outputs = cnn(images)\n",
    "\n",
    "        val_loss = compute_loss(criterion,\n",
    "                                outputs,\n",
    "                                labels,\n",
    "                                batch_size=args.batch_size,\n",
    "                                num_colours=num_colours)\n",
    "        losses.append(val_loss.data.item())\n",
    "\n",
    "        _, predicted = torch.max(outputs.data, 1, keepdim=True)\n",
    "        total += labels.size(0) * 32 * 32\n",
    "        correct += (predicted == labels.data).sum()\n",
    "\n",
    "    if plotpath: # only plot if a path is provided\n",
    "        plot(xs, ys, predicted.cpu().numpy(), colours, \n",
    "             plotpath, visualize=visualize, compare_bilinear=downsize_input)\n",
    "\n",
    "    val_loss = np.mean(losses)\n",
    "    val_acc = 100 * correct / total\n",
    "    return val_loss, val_acc\n"
   ]
  },
  {
   "cell_type": "markdown",
   "metadata": {
    "colab_type": "text",
    "id": "rp_wCpMjqt5w"
   },
   "source": [
    "## Visualization"
   ]
  },
  {
   "cell_type": "code",
   "execution_count": 0,
   "metadata": {
    "colab": {},
    "colab_type": "code",
    "id": "syg8NjwMqw_F"
   },
   "outputs": [],
   "source": [
    "def plot(input, gtlabel, output, colours, path, visualize, compare_bilinear=False):\n",
    "    \"\"\"\n",
    "    Generate png plots of input, ground truth, and outputs\n",
    "\n",
    "    Args:\n",
    "      input: the greyscale input to the colourization CNN\n",
    "      gtlabel: the grouth truth categories for each pixel\n",
    "      output: the predicted categories for each pixel\n",
    "      colours: numpy array of colour categories and their RGB values\n",
    "      path: output path\n",
    "      visualize: display the figures inline or save the figures in path\n",
    "    \"\"\"\n",
    "    grey = np.transpose(input[:10,:,:,:], [0,2,3,1])\n",
    "    gtcolor = get_cat_rgb(gtlabel[:10,0,:,:], colours)\n",
    "    predcolor = get_cat_rgb(output[:10,0,:,:], colours)\n",
    "\n",
    "    img_stack = [\n",
    "      np.hstack(np.tile(grey, [1,1,1,3])),\n",
    "      np.hstack(gtcolor),\n",
    "      np.hstack(predcolor)]\n",
    "    \n",
    "    if compare_bilinear:\n",
    "      downsize_module = nn.Sequential(nn.AvgPool2d(2),\n",
    "                                 nn.AvgPool2d(2), \n",
    "                                 nn.Upsample(scale_factor=2, mode='bilinear'), \n",
    "                                 nn.Upsample(scale_factor=2, mode='bilinear'))\n",
    "      gt_input = np.transpose(gtcolor, [0, 3, 1, 2,])\n",
    "      color_bilinear = downsize_module.forward(torch.from_numpy(gt_input).float())\n",
    "      color_bilinear = np.transpose(color_bilinear.data.numpy(), [0, 2, 3, 1])\n",
    "      img_stack = [\n",
    "        np.hstack(np.transpose(input[:10,:,:,:], [0,2,3,1])),\n",
    "        np.hstack(gtcolor),\n",
    "        np.hstack(predcolor),\n",
    "        np.hstack(color_bilinear)]\n",
    "    img = np.vstack(img_stack)\n",
    "    \n",
    "    plt.grid('off')\n",
    "    plt.imshow(img, vmin=0., vmax=1.)\n",
    "    if visualize:\n",
    "      plt.show()\n",
    "    else:\n",
    "      plt.savefig(path)\n",
    "\n",
    "def toimage(img, cmin, cmax):\n",
    "    return Image.fromarray((img.clip(cmin, cmax)*255).astype(np.uint8))\n",
    "  \n",
    "def plot_activation(args, cnn):\n",
    "    # LOAD THE COLOURS CATEGORIES\n",
    "    np_load_old = np.load\n",
    "    # modify the default parameters of np.load\n",
    "    np.load = lambda *a,**k: np_load_old(*a, allow_pickle=True, **k)\n",
    "    # call load_data with allow_pickle implicitly set to true\n",
    "    colours = np.load(args.colours)[0]\n",
    "    np.load = np_load_old\n",
    "    # revert back change made to np.load\n",
    "    num_colours = np.shape(colours)[0]\n",
    "    \n",
    "    (x_train, y_train), (x_test, y_test) = load_cifar10()\n",
    "    test_rgb, test_grey = process(x_test, y_test, downsize_input = args.downsize_input)\n",
    "    test_rgb_cat = get_rgb_cat(test_rgb, colours)\n",
    "    \n",
    "    # Take the idnex of the test image\n",
    "    id = args.index\n",
    "    outdir = \"outputs/\" + args.experiment_name + '/act' + str(id)\n",
    "    if not os.path.exists(outdir):\n",
    "      os.makedirs(outdir)\n",
    "    images, labels = get_torch_vars(np.expand_dims(test_grey[id], 0),\n",
    "                                    np.expand_dims(test_rgb_cat[id], 0))\n",
    "    cnn.cpu()\n",
    "    outputs = cnn(images)\n",
    "    _, predicted = torch.max(outputs.data, 1, keepdim=True)\n",
    "    predcolor = get_cat_rgb(predicted.cpu().numpy()[0,0,:,:], colours)\n",
    "    img = predcolor\n",
    "    toimage(predcolor, cmin=0, cmax=1) \\\n",
    "            .save(os.path.join(outdir, \"output_%d.png\" % id))\n",
    "\n",
    "    if not args.downsize_input:\n",
    "      img = np.tile(np.transpose(test_grey[id], [1,2,0]), [1,1,3])\n",
    "    else:\n",
    "      img = np.transpose(test_grey[id], [1,2,0])\n",
    "    toimage(img, cmin=0, cmax=1) \\\n",
    "            .save(os.path.join(outdir, \"input_%d.png\" % id))\n",
    "\n",
    "    img = np.transpose(test_rgb[id], [1,2,0])\n",
    "    toimage(img, cmin=0, cmax=1) \\\n",
    "            .save(os.path.join(outdir, \"input_%d_gt.png\" % id))\n",
    "\n",
    "    \n",
    "    def add_border(img):\n",
    "        return np.pad(img, 1, \"constant\", constant_values=1.0)\n",
    "\n",
    "    def draw_activations(path, activation, imgwidth=4):\n",
    "        img = np.vstack([\n",
    "            np.hstack([\n",
    "                add_border(filter) for filter in\n",
    "                activation[i*imgwidth:(i+1)*imgwidth,:,:]])\n",
    "            for i in range(activation.shape[0] // imgwidth)])\n",
    "        scipy.misc.imsave(path, img)\n",
    "\n",
    "\n",
    "    for i, tensor in enumerate([cnn.out1, cnn.out2, cnn.out3, cnn.out4, cnn.out5]):\n",
    "        draw_activations(\n",
    "            os.path.join(outdir, \"conv%d_out_%d.png\" % (i+1, id)),\n",
    "            tensor.data.cpu().numpy()[0])\n",
    "    print(\"visualization results are saved to %s\"%outdir)"
   ]
  },
  {
   "cell_type": "markdown",
   "metadata": {
    "colab_type": "text",
    "id": "xIa_fiZYnRy7"
   },
   "source": [
    "## Training"
   ]
  },
  {
   "cell_type": "code",
   "execution_count": 0,
   "metadata": {
    "colab": {},
    "colab_type": "code",
    "id": "LtAdbbzHnP-n"
   },
   "outputs": [],
   "source": [
    "class AttrDict(dict):\n",
    "    def __init__(self, *args, **kwargs):\n",
    "        super(AttrDict, self).__init__(*args, **kwargs)\n",
    "        self.__dict__ = self\n",
    "\n",
    "def train(args, cnn=None):\n",
    "    # Set the maximum number of threads to prevent crash in Teaching Labs\n",
    "    torch.set_num_threads(5)\n",
    "    # Numpy random seed\n",
    "    npr.seed(args.seed)\n",
    "    \n",
    "    # Save directory\n",
    "    save_dir = \"outputs/\" + args.experiment_name\n",
    "\n",
    "    # LOAD THE COLOURS CATEGORIES\n",
    "    np_load_old = np.load\n",
    "    # modify the default parameters of np.load\n",
    "    np.load = lambda *a,**k: np_load_old(*a, allow_pickle=True, **k)\n",
    "    # call load_data with allow_pickle implicitly set to true\n",
    "    colours = np.load(args.colours)[0]\n",
    "    num_colours = np.shape(colours)[0]\n",
    "    # print(num_colours)\n",
    "    # print(type(num_colours))\n",
    "    # restore np.load for future normal usage\n",
    "    np.load = np_load_old\n",
    "    \n",
    "    # INPUT CHANNEL\n",
    "    num_in_channels = 1 if not args.downsize_input else 3\n",
    "    # LOAD THE MODEL\n",
    "    if cnn is None:\n",
    "      if args.model == \"CNN\":\n",
    "          cnn = CNN(args.kernel, args.num_filters, num_colours, num_in_channels)\n",
    "      elif args.model == \"UNet\":\n",
    "          cnn = UNet(args.kernel, args.num_filters, num_colours, num_in_channels)\n",
    "\n",
    "    # LOSS FUNCTION\n",
    "    criterion = nn.CrossEntropyLoss()\n",
    "    optimizer = torch.optim.Adam(cnn.parameters(), lr=args.learn_rate)\n",
    "\n",
    "    # DATA\n",
    "    print(\"Loading data...\")\n",
    "    (x_train, y_train), (x_test, y_test) = load_cifar10()\n",
    "\n",
    "    print(\"Transforming data...\")\n",
    "    train_rgb, train_grey = process(x_train, y_train, downsize_input = args.downsize_input)\n",
    "    train_rgb_cat = get_rgb_cat(train_rgb, colours)\n",
    "    test_rgb, test_grey = process(x_test, y_test, downsize_input = args.downsize_input)\n",
    "    test_rgb_cat = get_rgb_cat(test_rgb, colours)\n",
    "\n",
    "    # Create the outputs folder if not created already\n",
    "    if not os.path.exists(save_dir):\n",
    "        os.makedirs(save_dir)\n",
    "\n",
    "    print(\"Beginning training ...\")\n",
    "    if args.gpu: cnn.cuda()\n",
    "    start = time.time()\n",
    "\n",
    "    train_losses = []\n",
    "    valid_losses = []\n",
    "    valid_accs = []\n",
    "    for epoch in range(args.epochs):\n",
    "        # Train the Model\n",
    "        cnn.train() # Change model to 'train' mode\n",
    "        losses = []\n",
    "        for i, (xs, ys) in enumerate(get_batch(train_grey,\n",
    "                                               train_rgb_cat,\n",
    "                                               args.batch_size)):\n",
    "            images, labels = get_torch_vars(xs, ys, args.gpu)\n",
    "            # Forward + Backward + Optimize\n",
    "            optimizer.zero_grad()\n",
    "            outputs = cnn(images)\n",
    "\n",
    "            loss = compute_loss(criterion,\n",
    "                                outputs,\n",
    "                                labels,\n",
    "                                batch_size=args.batch_size,\n",
    "                                num_colours=num_colours)\n",
    "            loss.backward()\n",
    "            optimizer.step()\n",
    "            losses.append(loss.data.item())\n",
    "\n",
    "        # plot training images\n",
    "        if args.plot:\n",
    "            _, predicted = torch.max(outputs.data, 1, keepdim=True)\n",
    "            plot(xs, ys, predicted.cpu().numpy(), colours,\n",
    "                 save_dir+'/train_%d.png' % epoch, \n",
    "                 args.visualize, \n",
    "                 args.downsize_input)\n",
    "\n",
    "        # plot training images\n",
    "        avg_loss = np.mean(losses)\n",
    "        train_losses.append(avg_loss)\n",
    "        time_elapsed = time.time() - start\n",
    "        print('Epoch [%d/%d], Loss: %.4f, Time (s): %d' % (\n",
    "            epoch+1, args.epochs, avg_loss, time_elapsed))\n",
    "\n",
    "        # Evaluate the model\n",
    "        cnn.eval()  # Change model to 'eval' mode (BN uses moving mean/var).\n",
    "        val_loss, val_acc = run_validation_step(cnn,\n",
    "                                                criterion,\n",
    "                                                test_grey,\n",
    "                                                test_rgb_cat,\n",
    "                                                args.batch_size,\n",
    "                                                colours,\n",
    "                                                save_dir+'/test_%d.png' % epoch,\n",
    "                                                args.visualize,\n",
    "                                                args.downsize_input)\n",
    "\n",
    "        time_elapsed = time.time() - start\n",
    "        valid_losses.append(val_loss)\n",
    "        valid_accs.append(val_acc)\n",
    "        print('Epoch [%d/%d], Val Loss: %.4f, Val Acc: %.1f%%, Time(s): %d' % (\n",
    "            epoch+1, args.epochs, val_loss, val_acc, time_elapsed))\n",
    "    \n",
    "    # Plot training curve\n",
    "    plt.figure()\n",
    "    plt.plot(train_losses, \"ro-\", label=\"Train\")\n",
    "    plt.plot(valid_losses, \"go-\", label=\"Validation\")\n",
    "    plt.legend()\n",
    "    plt.title(\"Loss\")\n",
    "    plt.xlabel(\"Epochs\")\n",
    "    plt.savefig(save_dir+\"/training_curve.png\")\n",
    "\n",
    "    if args.checkpoint:\n",
    "        print('Saving model...')\n",
    "        torch.save(cnn.state_dict(), args.checkpoint)\n",
    "    \n",
    "    return cnn"
   ]
  },
  {
   "cell_type": "markdown",
   "metadata": {
    "colab_type": "text",
    "id": "LAqGXV0iK1G9"
   },
   "source": [
    "## Convolutional neural networks (your code goes here)"
   ]
  },
  {
   "cell_type": "code",
   "execution_count": 0,
   "metadata": {
    "colab": {},
    "colab_type": "code",
    "id": "XOG_sFloK9gs"
   },
   "outputs": [],
   "source": [
    "######################################################################\n",
    "# MODELS\n",
    "######################################################################\n",
    "\n",
    "class MyConv2d(nn.Module):\n",
    "    \"\"\"\n",
    "    Our simplified implemented of nn.Conv2d module for 2D convolution\n",
    "    \"\"\"\n",
    "    def __init__(self, in_channels, out_channels, kernel_size, padding=None):\n",
    "        super(MyConv2d, self).__init__()\n",
    "\n",
    "        self.in_channels = in_channels\n",
    "        self.out_channels = out_channels\n",
    "        self.kernel_size = kernel_size\n",
    "        if padding is None:\n",
    "            self.padding = kernel_size // 2\n",
    "        else:\n",
    "            self.padding = padding\n",
    "        self.weight = nn.parameter.Parameter(torch.Tensor(\n",
    "            out_channels, in_channels, kernel_size, kernel_size))\n",
    "        self.bias = nn.parameter.Parameter(torch.Tensor(out_channels))\n",
    "        self.reset_parameters()\n",
    "\n",
    "    def reset_parameters(self):\n",
    "        n = self.in_channels * self.kernel_size * self.kernel_size\n",
    "        stdv = 1. / math.sqrt(n)\n",
    "        self.weight.data.uniform_(-stdv, stdv)\n",
    "        self.bias.data.uniform_(-stdv, stdv)\n",
    "\n",
    "    def forward(self, input):\n",
    "        return F.conv2d(input, self.weight, self.bias, padding=self.padding)\n",
    "\n",
    "\n",
    "class CNN(nn.Module):\n",
    "    def __init__(self, kernel, num_filters, num_colours, num_in_channels):\n",
    "        super(CNN, self).__init__()\n",
    "        padding = kernel // 2\n",
    "\n",
    "        ############### YOUR CODE GOES HERE ###############\n",
    "        self.downconv1 = nn.Sequential(\n",
    "            MyConv2d(num_in_channels, num_filters, kernel_size=kernel, padding=padding),\n",
    "            nn.BatchNorm2d(num_filters),\n",
    "            nn.ReLU(),\n",
    "            nn.MaxPool2d(2),)\n",
    "        self.downconv2 = nn.Sequential(\n",
    "            MyConv2d(num_filters, num_filters*2, kernel_size=kernel, padding=padding),\n",
    "            nn.BatchNorm2d(num_filters*2),\n",
    "            nn.ReLU(),\n",
    "            nn.MaxPool2d(2),)\n",
    "\n",
    "        self.rfconv = nn.Sequential(\n",
    "            MyConv2d(num_filters*2, num_filters*2, kernel_size=kernel, padding=padding),\n",
    "            nn.BatchNorm2d(num_filters*2),\n",
    "            nn.ReLU())\n",
    "\n",
    "        self.upconv1 = nn.Sequential(\n",
    "            MyConv2d(num_filters*2, num_filters, kernel_size=kernel, padding=padding),\n",
    "            nn.BatchNorm2d(num_filters),\n",
    "            nn.ReLU(),\n",
    "            nn.Upsample(scale_factor=2),)\n",
    "        self.upconv2 = nn.Sequential(\n",
    "            MyConv2d(num_filters, num_colours, kernel_size=kernel, padding=padding),\n",
    "            nn.BatchNorm2d(num_colours),\n",
    "            nn.ReLU(),\n",
    "            nn.Upsample(scale_factor=2),)\n",
    "        self.finalconv = MyConv2d(num_colours, num_colours, kernel_size=kernel)\n",
    "        ###################################################\n",
    "\n",
    "    def forward(self, x):\n",
    "        self.out1 = self.downconv1(x)\n",
    "        self.out2 = self.downconv2(self.out1)\n",
    "        self.out3 = self.rfconv(self.out2)\n",
    "        self.out4 = self.upconv1(self.out3)\n",
    "        self.out5 = self.upconv2(self.out4)\n",
    "        self.out_final = self.finalconv(self.out5)\n",
    "        return self.out_final\n",
    "\n",
    "class UNet(nn.Module):\n",
    "    def __init__(self, kernel, num_filters, num_colours, num_in_channels):\n",
    "        super(UNet, self).__init__()\n",
    "\n",
    "        ############### YOUR CODE GOES HERE ############### \n",
    "        padding = kernel // 2\n",
    "        self.downconv1 = nn.Sequential(\n",
    "            MyConv2d(num_in_channels, num_filters, kernel_size=kernel, padding=padding),\n",
    "            nn.BatchNorm2d(num_filters),\n",
    "            nn.ReLU(),\n",
    "            nn.MaxPool2d(2),)\n",
    "        self.downconv2 = nn.Sequential(\n",
    "            MyConv2d(num_filters, num_filters*2, kernel_size=kernel, padding=padding),\n",
    "            nn.BatchNorm2d(num_filters*2),\n",
    "            nn.ReLU(),\n",
    "            nn.MaxPool2d(2),)\n",
    "\n",
    "        self.rfconv = nn.Sequential(\n",
    "            MyConv2d(num_filters*2, num_filters*2, kernel_size=kernel, padding=padding),\n",
    "            nn.BatchNorm2d(num_filters*2),\n",
    "            nn.ReLU())\n",
    "\n",
    "        self.upconv1 = nn.Sequential(\n",
    "            MyConv2d(num_filters*4, num_filters, kernel_size=kernel, padding=padding),\n",
    "            nn.BatchNorm2d(num_filters),\n",
    "            nn.ReLU(),\n",
    "            nn.Upsample(scale_factor=2),)\n",
    "        self.upconv2 = nn.Sequential(\n",
    "            MyConv2d(num_filters*2, num_colours, kernel_size=kernel, padding=padding),\n",
    "            nn.BatchNorm2d(num_colours),\n",
    "            nn.ReLU(),\n",
    "            nn.Upsample(scale_factor=2),)\n",
    "        self.finalconv = MyConv2d(num_colours+1, num_colours, kernel_size=kernel)\n",
    "        ###################################################\n",
    "\n",
    "    def forward(self, x):\n",
    "        ############### YOUR CODE GOES HERE ###############\n",
    "        self.out1 = self.downconv1(x)\n",
    "        #print(\"self.out1\", self.out1.shape)\n",
    "        self.out2 = self.downconv2(self.out1)\n",
    "        #print(\"self.out2\", self.out2.shape)\n",
    "        self.out3 = self.rfconv(self.out2)\n",
    "        #print(\"self.out3\", self.out3.shape)\n",
    "        self.out4 = self.upconv1(torch.cat((self.out3, self.out2), dim=1))\n",
    "        #print(\"self.out4\", self.out4.shape)\n",
    "        self.out5 = self.upconv2(torch.cat((self.out4, self.out1), dim=1))\n",
    "        #print(self.out5.shape, x.shape)\n",
    "        self.out_final = self.finalconv(torch.cat((self.out5, x), dim=1))\n",
    "        \n",
    "        return self.out_final\n",
    "        ###################################################\n",
    "        pass\n"
   ]
  },
  {
   "cell_type": "markdown",
   "metadata": {
    "colab_type": "text",
    "id": "jCogvi3_nlfY"
   },
   "source": [
    "# CIFAR-10 colorization"
   ]
  },
  {
   "cell_type": "markdown",
   "metadata": {
    "colab_type": "text",
    "id": "CTZWiuxMjQTB"
   },
   "source": [
    "## Main training loop for CNN"
   ]
  },
  {
   "cell_type": "code",
   "execution_count": 45,
   "metadata": {
    "colab": {
     "base_uri": "https://localhost:8080/",
     "height": 1000
    },
    "colab_type": "code",
    "executionInfo": {
     "elapsed": 62262,
     "status": "ok",
     "timestamp": 1572731447459,
     "user": {
      "displayName": "Li Chen",
      "photoUrl": "",
      "userId": "08452733754503056217"
     },
     "user_tz": 240
    },
    "id": "fZHc_eStGAQz",
    "outputId": "8ef57b35-9151-4f32-d25e-319b8a06ec73"
   },
   "outputs": [
    {
     "name": "stdout",
     "output_type": "stream",
     "text": [
      "Loading data...\n",
      "data/cifar-10-batches-py.tar.gz\n",
      "Transforming data...\n",
      "Beginning training ...\n",
      "Epoch [1/25], Loss: 2.4429, Time (s): 1\n",
      "Epoch [1/25], Val Loss: 2.1674, Val Acc: 26.0%, Time(s): 2\n",
      "Epoch [2/25], Loss: 1.9980, Time (s): 3\n",
      "Epoch [2/25], Val Loss: 1.9033, Val Acc: 33.4%, Time(s): 4\n",
      "Epoch [3/25], Loss: 1.8720, Time (s): 5\n",
      "Epoch [3/25], Val Loss: 1.8221, Val Acc: 35.4%, Time(s): 6\n",
      "Epoch [4/25], Loss: 1.8092, Time (s): 8\n",
      "Epoch [4/25], Val Loss: 1.7734, Val Acc: 36.5%, Time(s): 8\n",
      "Epoch [5/25], Loss: 1.7675, Time (s): 10\n",
      "Epoch [5/25], Val Loss: 1.7340, Val Acc: 37.5%, Time(s): 10\n",
      "Epoch [6/25], Loss: 1.7371, Time (s): 12\n",
      "Epoch [6/25], Val Loss: 1.7053, Val Acc: 38.2%, Time(s): 12\n",
      "Epoch [7/25], Loss: 1.7140, Time (s): 14\n",
      "Epoch [7/25], Val Loss: 1.6881, Val Acc: 38.5%, Time(s): 14\n",
      "Epoch [8/25], Loss: 1.6954, Time (s): 16\n",
      "Epoch [8/25], Val Loss: 1.6762, Val Acc: 38.6%, Time(s): 16\n",
      "Epoch [9/25], Loss: 1.6799, Time (s): 18\n",
      "Epoch [9/25], Val Loss: 1.6715, Val Acc: 38.6%, Time(s): 18\n",
      "Epoch [10/25], Loss: 1.6657, Time (s): 20\n",
      "Epoch [10/25], Val Loss: 1.6541, Val Acc: 39.1%, Time(s): 20\n",
      "Epoch [11/25], Loss: 1.6522, Time (s): 22\n",
      "Epoch [11/25], Val Loss: 1.6431, Val Acc: 39.4%, Time(s): 23\n",
      "Epoch [12/25], Loss: 1.6406, Time (s): 25\n",
      "Epoch [12/25], Val Loss: 1.6350, Val Acc: 39.7%, Time(s): 25\n",
      "Epoch [13/25], Loss: 1.6313, Time (s): 27\n",
      "Epoch [13/25], Val Loss: 1.6270, Val Acc: 39.9%, Time(s): 27\n",
      "Epoch [14/25], Loss: 1.6221, Time (s): 29\n",
      "Epoch [14/25], Val Loss: 1.6187, Val Acc: 40.1%, Time(s): 29\n",
      "Epoch [15/25], Loss: 1.6130, Time (s): 31\n",
      "Epoch [15/25], Val Loss: 1.6099, Val Acc: 40.4%, Time(s): 32\n",
      "Epoch [16/25], Loss: 1.6056, Time (s): 33\n",
      "Epoch [16/25], Val Loss: 1.6040, Val Acc: 40.5%, Time(s): 34\n",
      "Epoch [17/25], Loss: 1.5988, Time (s): 36\n",
      "Epoch [17/25], Val Loss: 1.5963, Val Acc: 40.7%, Time(s): 36\n",
      "Epoch [18/25], Loss: 1.5927, Time (s): 38\n",
      "Epoch [18/25], Val Loss: 1.5948, Val Acc: 40.8%, Time(s): 38\n",
      "Epoch [19/25], Loss: 1.5871, Time (s): 40\n",
      "Epoch [19/25], Val Loss: 1.5873, Val Acc: 41.1%, Time(s): 41\n",
      "Epoch [20/25], Loss: 1.5817, Time (s): 43\n",
      "Epoch [20/25], Val Loss: 1.5836, Val Acc: 41.1%, Time(s): 43\n",
      "Epoch [21/25], Loss: 1.5761, Time (s): 45\n",
      "Epoch [21/25], Val Loss: 1.5804, Val Acc: 41.2%, Time(s): 45\n",
      "Epoch [22/25], Loss: 1.5705, Time (s): 47\n",
      "Epoch [22/25], Val Loss: 1.5775, Val Acc: 41.3%, Time(s): 48\n",
      "Epoch [23/25], Loss: 1.5653, Time (s): 50\n",
      "Epoch [23/25], Val Loss: 1.5739, Val Acc: 41.3%, Time(s): 50\n",
      "Epoch [24/25], Loss: 1.5611, Time (s): 52\n",
      "Epoch [24/25], Val Loss: 1.5701, Val Acc: 41.5%, Time(s): 53\n",
      "Epoch [25/25], Loss: 1.5569, Time (s): 55\n",
      "Epoch [25/25], Val Loss: 1.5739, Val Acc: 41.5%, Time(s): 55\n"
     ]
    },
    {
     "data": {
      "image/png": "[encoded data removed]",
      "text/plain": [
       "<Figure size 432x288 with 1 Axes>"
      ]
     },
     "metadata": {
      "tags": []
     },
     "output_type": "display_data"
    },
    {
     "data": {
      "image/png": "[encoded data removed]",
      "text/plain": [
       "<Figure size 432x288 with 1 Axes>"
      ]
     },
     "metadata": {
      "tags": []
     },
     "output_type": "display_data"
    }
   ],
   "source": [
    "args = AttrDict()\n",
    "args_dict = {\n",
    "              'gpu':True, \n",
    "              'valid':False, \n",
    "              'checkpoint':\"\", \n",
    "              'colours':'./data/colours/colour_kmeans24_cat7.npy', \n",
    "              'model':\"CNN\", \n",
    "              'kernel':3,\n",
    "              'num_filters':32, \n",
    "              'learn_rate':0.001, \n",
    "              'batch_size':100, \n",
    "              'epochs':25, \n",
    "              'seed':0,\n",
    "              'plot':True, \n",
    "              'experiment_name': 'colourization_cnn',\n",
    "              'visualize': False,\n",
    "              'downsize_input':False,\n",
    "}\n",
    "args.update(args_dict)\n",
    "cnn = train(args)"
   ]
  },
  {
   "cell_type": "markdown",
   "metadata": {
    "colab_type": "text",
    "id": "ZXJzGP8inYF9"
   },
   "source": [
    "## Main training loop for UNet"
   ]
  },
  {
   "cell_type": "code",
   "execution_count": 46,
   "metadata": {
    "colab": {
     "base_uri": "https://localhost:8080/",
     "height": 1000
    },
    "colab_type": "code",
    "executionInfo": {
     "elapsed": 124022,
     "status": "ok",
     "timestamp": 1572731511565,
     "user": {
      "displayName": "Li Chen",
      "photoUrl": "",
      "userId": "08452733754503056217"
     },
     "user_tz": 240
    },
    "id": "2-vGs7qHndmY",
    "outputId": "573f8818-cb14-462c-b9ee-b6a478a2732d"
   },
   "outputs": [
    {
     "name": "stdout",
     "output_type": "stream",
     "text": [
      "Loading data...\n",
      "data/cifar-10-batches-py.tar.gz\n",
      "Transforming data...\n",
      "Beginning training ...\n",
      "Epoch [1/25], Loss: 2.3632, Time (s): 2\n",
      "Epoch [1/25], Val Loss: 2.0557, Val Acc: 30.2%, Time(s): 2\n",
      "Epoch [2/25], Loss: 1.8583, Time (s): 4\n",
      "Epoch [2/25], Val Loss: 1.7672, Val Acc: 37.2%, Time(s): 4\n",
      "Epoch [3/25], Loss: 1.7151, Time (s): 6\n",
      "Epoch [3/25], Val Loss: 1.6783, Val Acc: 39.0%, Time(s): 6\n",
      "Epoch [4/25], Loss: 1.6437, Time (s): 8\n",
      "Epoch [4/25], Val Loss: 1.6222, Val Acc: 40.4%, Time(s): 8\n",
      "Epoch [5/25], Loss: 1.5947, Time (s): 10\n",
      "Epoch [5/25], Val Loss: 1.5762, Val Acc: 41.6%, Time(s): 10\n",
      "Epoch [6/25], Loss: 1.5565, Time (s): 12\n",
      "Epoch [6/25], Val Loss: 1.5451, Val Acc: 42.4%, Time(s): 12\n",
      "Epoch [7/25], Loss: 1.5251, Time (s): 14\n",
      "Epoch [7/25], Val Loss: 1.5166, Val Acc: 43.2%, Time(s): 15\n",
      "Epoch [8/25], Loss: 1.4984, Time (s): 17\n",
      "Epoch [8/25], Val Loss: 1.5020, Val Acc: 43.5%, Time(s): 17\n",
      "Epoch [9/25], Loss: 1.4759, Time (s): 19\n",
      "Epoch [9/25], Val Loss: 1.4780, Val Acc: 44.2%, Time(s): 19\n",
      "Epoch [10/25], Loss: 1.4553, Time (s): 21\n",
      "Epoch [10/25], Val Loss: 1.4582, Val Acc: 44.9%, Time(s): 21\n",
      "Epoch [11/25], Loss: 1.4357, Time (s): 23\n",
      "Epoch [11/25], Val Loss: 1.4484, Val Acc: 45.2%, Time(s): 24\n",
      "Epoch [12/25], Loss: 1.4176, Time (s): 26\n",
      "Epoch [12/25], Val Loss: 1.4424, Val Acc: 45.4%, Time(s): 26\n",
      "Epoch [13/25], Loss: 1.4011, Time (s): 28\n",
      "Epoch [13/25], Val Loss: 1.4323, Val Acc: 45.7%, Time(s): 28\n",
      "Epoch [14/25], Loss: 1.3858, Time (s): 30\n",
      "Epoch [14/25], Val Loss: 1.4149, Val Acc: 46.2%, Time(s): 31\n",
      "Epoch [15/25], Loss: 1.3717, Time (s): 33\n",
      "Epoch [15/25], Val Loss: 1.4051, Val Acc: 46.6%, Time(s): 33\n",
      "Epoch [16/25], Loss: 1.3584, Time (s): 35\n",
      "Epoch [16/25], Val Loss: 1.3891, Val Acc: 47.2%, Time(s): 35\n",
      "Epoch [17/25], Loss: 1.3463, Time (s): 37\n",
      "Epoch [17/25], Val Loss: 1.3798, Val Acc: 47.5%, Time(s): 38\n",
      "Epoch [18/25], Loss: 1.3346, Time (s): 40\n",
      "Epoch [18/25], Val Loss: 1.3715, Val Acc: 47.7%, Time(s): 40\n",
      "Epoch [19/25], Loss: 1.3237, Time (s): 42\n",
      "Epoch [19/25], Val Loss: 1.3587, Val Acc: 48.2%, Time(s): 43\n",
      "Epoch [20/25], Loss: 1.3135, Time (s): 45\n",
      "Epoch [20/25], Val Loss: 1.3486, Val Acc: 48.5%, Time(s): 45\n",
      "Epoch [21/25], Loss: 1.3031, Time (s): 47\n",
      "Epoch [21/25], Val Loss: 1.3412, Val Acc: 48.7%, Time(s): 48\n",
      "Epoch [22/25], Loss: 1.2930, Time (s): 50\n",
      "Epoch [22/25], Val Loss: 1.3385, Val Acc: 48.9%, Time(s): 50\n",
      "Epoch [23/25], Loss: 1.2822, Time (s): 52\n",
      "Epoch [23/25], Val Loss: 1.3352, Val Acc: 49.2%, Time(s): 53\n",
      "Epoch [24/25], Loss: 1.2719, Time (s): 55\n",
      "Epoch [24/25], Val Loss: 1.3362, Val Acc: 49.2%, Time(s): 55\n",
      "Epoch [25/25], Loss: 1.2621, Time (s): 57\n",
      "Epoch [25/25], Val Loss: 1.3327, Val Acc: 49.4%, Time(s): 58\n"
     ]
    },
    {
     "data": {
      "image/png": "[encoded data removed]",
      "text/plain": [
       "<Figure size 432x288 with 1 Axes>"
      ]
     },
     "metadata": {
      "tags": []
     },
     "output_type": "display_data"
    },
    {
     "data": {
      "image/png": "[encoded data removed]",
      "text/plain": [
       "<Figure size 432x288 with 1 Axes>"
      ]
     },
     "metadata": {
      "tags": []
     },
     "output_type": "display_data"
    }
   ],
   "source": [
    "args = AttrDict()\n",
    "args_dict = {\n",
    "              'gpu':True, \n",
    "              'valid':False, \n",
    "              'checkpoint':\"\", \n",
    "              'colours':'./data/colours/colour_kmeans24_cat7.npy', \n",
    "              'model':\"UNet\", \n",
    "              'kernel':3,\n",
    "              'num_filters':32, \n",
    "              'learn_rate':0.001, \n",
    "              'batch_size':100, \n",
    "              'epochs':25, \n",
    "              'seed':0,\n",
    "              'plot':True, \n",
    "              'experiment_name': 'colourization_unet',\n",
    "              'visualize': False,\n",
    "              'downsize_input':False,\n",
    "}\n",
    "args.update(args_dict)\n",
    "unet_cnn = train(args)"
   ]
  },
  {
   "cell_type": "markdown",
   "metadata": {
    "colab_type": "text",
    "id": "iVRRksAUoLRX"
   },
   "source": [
    "# CIFAR-10 super-resolution"
   ]
  },
  {
   "cell_type": "markdown",
   "metadata": {
    "colab_type": "text",
    "id": "qylCy-EGofPq"
   },
   "source": [
    "## Main training loop"
   ]
  },
  {
   "cell_type": "code",
   "execution_count": 47,
   "metadata": {
    "colab": {
     "base_uri": "https://localhost:8080/",
     "height": 1000
    },
    "colab_type": "code",
    "executionInfo": {
     "elapsed": 65025,
     "status": "ok",
     "timestamp": 1572731576658,
     "user": {
      "displayName": "Li Chen",
      "photoUrl": "",
      "userId": "08452733754503056217"
     },
     "user_tz": 240
    },
    "id": "LOduh0wloOtr",
    "outputId": "f216e107-07f2-4638-857f-5d140c2d7367"
   },
   "outputs": [
    {
     "name": "stdout",
     "output_type": "stream",
     "text": [
      "Loading data...\n",
      "data/cifar-10-batches-py.tar.gz\n",
      "Transforming data...\n",
      "Beginning training ...\n",
      "Epoch [1/25], Loss: 2.2649, Time (s): 1\n",
      "Epoch [1/25], Val Loss: 1.8908, Val Acc: 35.0%, Time(s): 2\n",
      "Epoch [2/25], Loss: 1.7050, Time (s): 3\n",
      "Epoch [2/25], Val Loss: 1.6591, Val Acc: 41.7%, Time(s): 4\n",
      "Epoch [3/25], Loss: 1.6120, Time (s): 6\n",
      "Epoch [3/25], Val Loss: 1.5890, Val Acc: 43.8%, Time(s): 6\n",
      "Epoch [4/25], Loss: 1.5747, Time (s): 8\n",
      "Epoch [4/25], Val Loss: 1.5575, Val Acc: 44.7%, Time(s): 8\n",
      "Epoch [5/25], Loss: 1.5535, Time (s): 10\n",
      "Epoch [5/25], Val Loss: 1.5395, Val Acc: 45.1%, Time(s): 10\n",
      "Epoch [6/25], Loss: 1.5395, Time (s): 12\n",
      "Epoch [6/25], Val Loss: 1.5300, Val Acc: 45.3%, Time(s): 12\n",
      "Epoch [7/25], Loss: 1.5296, Time (s): 14\n",
      "Epoch [7/25], Val Loss: 1.5271, Val Acc: 45.4%, Time(s): 14\n",
      "Epoch [8/25], Loss: 1.5229, Time (s): 16\n",
      "Epoch [8/25], Val Loss: 1.5186, Val Acc: 45.6%, Time(s): 16\n",
      "Epoch [9/25], Loss: 1.5168, Time (s): 18\n",
      "Epoch [9/25], Val Loss: 1.5152, Val Acc: 45.6%, Time(s): 19\n",
      "Epoch [10/25], Loss: 1.5101, Time (s): 21\n",
      "Epoch [10/25], Val Loss: 1.5068, Val Acc: 45.8%, Time(s): 21\n",
      "Epoch [11/25], Loss: 1.5048, Time (s): 23\n",
      "Epoch [11/25], Val Loss: 1.5019, Val Acc: 46.0%, Time(s): 23\n",
      "Epoch [12/25], Loss: 1.5002, Time (s): 25\n",
      "Epoch [12/25], Val Loss: 1.4973, Val Acc: 46.1%, Time(s): 25\n",
      "Epoch [13/25], Loss: 1.4960, Time (s): 27\n",
      "Epoch [13/25], Val Loss: 1.4949, Val Acc: 46.2%, Time(s): 28\n",
      "Epoch [14/25], Loss: 1.4921, Time (s): 30\n",
      "Epoch [14/25], Val Loss: 1.4909, Val Acc: 46.4%, Time(s): 30\n",
      "Epoch [15/25], Loss: 1.4887, Time (s): 32\n",
      "Epoch [15/25], Val Loss: 1.4917, Val Acc: 46.3%, Time(s): 32\n",
      "Epoch [16/25], Loss: 1.4854, Time (s): 34\n",
      "Epoch [16/25], Val Loss: 1.4897, Val Acc: 46.4%, Time(s): 35\n",
      "Epoch [17/25], Loss: 1.4826, Time (s): 37\n",
      "Epoch [17/25], Val Loss: 1.4877, Val Acc: 46.5%, Time(s): 37\n",
      "Epoch [18/25], Loss: 1.4800, Time (s): 39\n",
      "Epoch [18/25], Val Loss: 1.4871, Val Acc: 46.4%, Time(s): 39\n",
      "Epoch [19/25], Loss: 1.4776, Time (s): 41\n",
      "Epoch [19/25], Val Loss: 1.4854, Val Acc: 46.5%, Time(s): 42\n",
      "Epoch [20/25], Loss: 1.4753, Time (s): 44\n",
      "Epoch [20/25], Val Loss: 1.4881, Val Acc: 46.4%, Time(s): 44\n",
      "Epoch [21/25], Loss: 1.4733, Time (s): 46\n",
      "Epoch [21/25], Val Loss: 1.4879, Val Acc: 46.4%, Time(s): 47\n",
      "Epoch [22/25], Loss: 1.4713, Time (s): 49\n",
      "Epoch [22/25], Val Loss: 1.4873, Val Acc: 46.4%, Time(s): 49\n",
      "Epoch [23/25], Loss: 1.4694, Time (s): 51\n",
      "Epoch [23/25], Val Loss: 1.4836, Val Acc: 46.5%, Time(s): 52\n",
      "Epoch [24/25], Loss: 1.4678, Time (s): 54\n",
      "Epoch [24/25], Val Loss: 1.4833, Val Acc: 46.5%, Time(s): 54\n",
      "Epoch [25/25], Loss: 1.4662, Time (s): 56\n",
      "Epoch [25/25], Val Loss: 1.4848, Val Acc: 46.4%, Time(s): 57\n"
     ]
    },
    {
     "data": {
      "image/png": "[encoded data removed]",
      "text/plain": [
       "<Figure size 432x288 with 1 Axes>"
      ]
     },
     "metadata": {
      "tags": []
     },
     "output_type": "display_data"
    },
    {
     "data": {
      "image/png": "[encoded data removed]",
      "text/plain": [
       "<Figure size 432x288 with 1 Axes>"
      ]
     },
     "metadata": {
      "tags": []
     },
     "output_type": "display_data"
    }
   ],
   "source": [
    "args = AttrDict()\n",
    "args_dict = {\n",
    "              'gpu':True, \n",
    "              'valid':False, \n",
    "              'checkpoint':\"\", \n",
    "              'colours':'./data/colours/colour_kmeans24_cat7.npy', \n",
    "              'model':\"CNN\", \n",
    "              'kernel':3,\n",
    "              'num_filters':32, \n",
    "              'learn_rate':0.001, \n",
    "              'batch_size':100, \n",
    "              'epochs':25, \n",
    "              'seed':0,\n",
    "              'plot':True, \n",
    "              'experiment_name': 'super_res_unet',\n",
    "              'visualize': False,\n",
    "              'downsize_input':True,\n",
    "}\n",
    "args.update(args_dict)\n",
    "sr_cnn = train(args)"
   ]
  },
  {
   "cell_type": "markdown",
   "metadata": {
    "colab_type": "text",
    "id": "0i-ys_cl-Kuh"
   },
   "source": [
    "# Visualization"
   ]
  },
  {
   "cell_type": "markdown",
   "metadata": {
    "colab_type": "text",
    "id": "GaPJY4g6MLN8"
   },
   "source": [
    "You will run the following code to generate visualization results. The generated images are saved in the file system of this Colab notebook. You can find them by selecting  the \"Files\" tab on the left side of the screen. \n",
    "\n",
    ">  **Files**  →   **CSC421** →   **a2**  →   **outputs**"
   ]
  },
  {
   "cell_type": "markdown",
   "metadata": {
    "colab_type": "text",
    "id": "I56OMNq_NZIF"
   },
   "source": [
    "## Visualize CNN"
   ]
  },
  {
   "cell_type": "code",
   "execution_count": 50,
   "metadata": {
    "colab": {
     "base_uri": "https://localhost:8080/",
     "height": 124
    },
    "colab_type": "code",
    "executionInfo": {
     "elapsed": 2239,
     "status": "ok",
     "timestamp": 1572731833149,
     "user": {
      "displayName": "Li Chen",
      "photoUrl": "",
      "userId": "08452733754503056217"
     },
     "user_tz": 240
    },
    "id": "aXvqoQYONMTA",
    "outputId": "110b89a8-71bb-495b-a106-7cc603e28c7b"
   },
   "outputs": [
    {
     "name": "stdout",
     "output_type": "stream",
     "text": [
      "data/cifar-10-batches-py.tar.gz\n",
      "visualization results are saved to outputs/colourization_cnn/act0\n"
     ]
    },
    {
     "name": "stderr",
     "output_type": "stream",
     "text": [
      "/usr/local/lib/python2.7/dist-packages/ipykernel_launcher.py:95: DeprecationWarning: `imsave` is deprecated!\n",
      "`imsave` is deprecated in SciPy 1.0.0, and will be removed in 1.2.0.\n",
      "Use ``imageio.imwrite`` instead.\n"
     ]
    }
   ],
   "source": [
    "args = AttrDict()\n",
    "args_dict = {\n",
    "              'colours':'./data/colours/colour_kmeans24_cat7.npy', \n",
    "              'index':0,\n",
    "              'experiment_name': 'colourization_cnn',\n",
    "              'downsize_input':False,\n",
    "}\n",
    "args.update(args_dict)\n",
    "plot_activation(args, cnn)"
   ]
  },
  {
   "cell_type": "markdown",
   "metadata": {
    "colab_type": "text",
    "id": "xuOvxfA1NMz3"
   },
   "source": [
    "## Visualize UNet"
   ]
  },
  {
   "cell_type": "code",
   "execution_count": 51,
   "metadata": {
    "colab": {
     "base_uri": "https://localhost:8080/",
     "height": 124
    },
    "colab_type": "code",
    "executionInfo": {
     "elapsed": 1871,
     "status": "ok",
     "timestamp": 1572731841250,
     "user": {
      "displayName": "Li Chen",
      "photoUrl": "",
      "userId": "08452733754503056217"
     },
     "user_tz": 240
    },
    "id": "HSSB4wd8-M7g",
    "outputId": "8e836d68-5352-43f8-e3d3-ef4aab3d436a"
   },
   "outputs": [
    {
     "name": "stdout",
     "output_type": "stream",
     "text": [
      "data/cifar-10-batches-py.tar.gz\n",
      "visualization results are saved to outputs/colourization_unet/act0\n"
     ]
    },
    {
     "name": "stderr",
     "output_type": "stream",
     "text": [
      "/usr/local/lib/python2.7/dist-packages/ipykernel_launcher.py:95: DeprecationWarning: `imsave` is deprecated!\n",
      "`imsave` is deprecated in SciPy 1.0.0, and will be removed in 1.2.0.\n",
      "Use ``imageio.imwrite`` instead.\n"
     ]
    }
   ],
   "source": [
    "args = AttrDict()\n",
    "args_dict = {\n",
    "              'colours':'./data/colours/colour_kmeans24_cat7.npy', \n",
    "              'index':0,\n",
    "              'experiment_name': 'colourization_unet',\n",
    "              'downsize_input':False,\n",
    "}\n",
    "args.update(args_dict)\n",
    "plot_activation(args, unet_cnn)"
   ]
  },
  {
   "cell_type": "markdown",
   "metadata": {
    "colab_type": "text",
    "id": "GUujoDHaPaui"
   },
   "source": [
    "## Visualize super-resolution"
   ]
  },
  {
   "cell_type": "code",
   "execution_count": 52,
   "metadata": {
    "colab": {
     "base_uri": "https://localhost:8080/",
     "height": 124
    },
    "colab_type": "code",
    "executionInfo": {
     "elapsed": 2746,
     "status": "ok",
     "timestamp": 1572731845371,
     "user": {
      "displayName": "Li Chen",
      "photoUrl": "",
      "userId": "08452733754503056217"
     },
     "user_tz": 240
    },
    "id": "dsvPv4KgAZrx",
    "outputId": "05e75b8d-8126-4306-9ead-07384a69da5e"
   },
   "outputs": [
    {
     "name": "stdout",
     "output_type": "stream",
     "text": [
      "data/cifar-10-batches-py.tar.gz\n",
      "visualization results are saved to outputs/super_res_unet/act0\n"
     ]
    },
    {
     "name": "stderr",
     "output_type": "stream",
     "text": [
      "/usr/local/lib/python2.7/dist-packages/ipykernel_launcher.py:95: DeprecationWarning: `imsave` is deprecated!\n",
      "`imsave` is deprecated in SciPy 1.0.0, and will be removed in 1.2.0.\n",
      "Use ``imageio.imwrite`` instead.\n"
     ]
    }
   ],
   "source": [
    "args = AttrDict()\n",
    "args_dict = {\n",
    "              'colours':'./data/colours/colour_kmeans24_cat7.npy', \n",
    "              'index':0,\n",
    "              'experiment_name': 'super_res_unet',\n",
    "              'downsize_input':True,\n",
    "}\n",
    "args.update(args_dict)\n",
    "plot_activation(args, sr_cnn)"
   ]
  },
  {
   "cell_type": "code",
   "execution_count": 0,
   "metadata": {
    "colab": {},
    "colab_type": "code",
    "id": "VwYseLejNx7e"
   },
   "outputs": [],
   "source": []
  }
 ],
 "metadata": {
  "accelerator": "GPU",
  "colab": {
   "collapsed_sections": [
    "4BIpGwANoQOg",
    "2jIKvJNtoVgU"
   ],
   "name": "colourization.ipynb",
   "provenance": [],
   "toc_visible": true
  },
  "kernelspec": {
   "display_name": "Python 2",
   "name": "python2"
  }
 },
 "nbformat": 4,
 "nbformat_minor": 1
}
